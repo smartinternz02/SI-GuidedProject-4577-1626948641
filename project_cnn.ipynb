{
 "cells": [
  {
   "cell_type": "code",
   "execution_count": 1,
   "source": [
    "from tensorflow.keras.models import Sequential\n",
    "from tensorflow.keras.layers import Dense, Convolution2D, MaxPooling2D, Flatten"
   ],
   "outputs": [
    {
     "output_type": "stream",
     "name": "stdout",
     "text": [
      "Requirement already satisfied: twilio in /Users/aishaandatt/opt/anaconda3/lib/python3.8/site-packages (6.62.0)\n",
      "Requirement already satisfied: pytz in /Users/aishaandatt/opt/anaconda3/lib/python3.8/site-packages (from twilio) (2020.1)\n",
      "Requirement already satisfied: requests>=2.0.0; python_version >= \"3.0\" in /Users/aishaandatt/opt/anaconda3/lib/python3.8/site-packages (from twilio) (2.24.0)\n",
      "Requirement already satisfied: six in /Users/aishaandatt/opt/anaconda3/lib/python3.8/site-packages (from twilio) (1.15.0)\n",
      "Requirement already satisfied: PyJWT==1.7.1 in /Users/aishaandatt/opt/anaconda3/lib/python3.8/site-packages (from twilio) (1.7.1)\n",
      "Requirement already satisfied: certifi>=2017.4.17 in /Users/aishaandatt/opt/anaconda3/lib/python3.8/site-packages (from requests>=2.0.0; python_version >= \"3.0\"->twilio) (2021.5.30)\n",
      "Requirement already satisfied: idna<3,>=2.5 in /Users/aishaandatt/opt/anaconda3/lib/python3.8/site-packages (from requests>=2.0.0; python_version >= \"3.0\"->twilio) (2.10)\n",
      "Requirement already satisfied: chardet<4,>=3.0.2 in /Users/aishaandatt/opt/anaconda3/lib/python3.8/site-packages (from requests>=2.0.0; python_version >= \"3.0\"->twilio) (3.0.4)\n",
      "Requirement already satisfied: urllib3!=1.25.0,!=1.25.1,<1.26,>=1.21.1 in /Users/aishaandatt/opt/anaconda3/lib/python3.8/site-packages (from requests>=2.0.0; python_version >= \"3.0\"->twilio) (1.25.11)\n"
     ]
    }
   ],
   "metadata": {}
  },
  {
   "cell_type": "code",
   "execution_count": 18,
   "source": [
    "from tensorflow.keras.preprocessing.image import ImageDataGenerator\n",
    "train_datagen = ImageDataGenerator(rescale = 1./255, shear_range =0.2, zoom_range =0.2, horizontal_flip = True)\n",
    "test_datagen = ImageDataGenerator(rescale = 1./255)"
   ],
   "outputs": [],
   "metadata": {}
  },
  {
   "cell_type": "code",
   "execution_count": 19,
   "source": [
    "x_train = train_datagen.flow_from_directory(r'/Users/aishaandatt/Downloads/Externship IBM/PROJECT_IBM/Dataset_Custom/Train',target_size = (64,64),batch_size = 32,class_mode = \"categorical\")\n",
    "x_test = test_datagen.flow_from_directory(r'/Users/aishaandatt/Downloads/Externship IBM/PROJECT_IBM/Dataset_Custom/Test',target_size = (64,64),batch_size = 32,class_mode = \"categorical\")"
   ],
   "outputs": [
    {
     "output_type": "stream",
     "name": "stdout",
     "text": [
      "Found 3336 images belonging to 3 classes.\n",
      "Found 483 images belonging to 3 classes.\n"
     ]
    }
   ],
   "metadata": {}
  },
  {
   "cell_type": "code",
   "execution_count": 20,
   "source": [
    "x_train.class_indices"
   ],
   "outputs": [
    {
     "output_type": "execute_result",
     "data": {
      "text/plain": [
       "{'Domestic Animal': 0, 'Human': 1, 'Wild Animal': 2}"
      ]
     },
     "metadata": {},
     "execution_count": 20
    }
   ],
   "metadata": {}
  },
  {
   "cell_type": "code",
   "execution_count": 21,
   "source": [
    "model=Sequential()"
   ],
   "outputs": [],
   "metadata": {}
  },
  {
   "cell_type": "code",
   "execution_count": 22,
   "source": [
    "model.add(Convolution2D(32,(2,2),input_shape = (64,64,3)))"
   ],
   "outputs": [],
   "metadata": {}
  },
  {
   "cell_type": "code",
   "execution_count": 23,
   "source": [
    "model.add(MaxPooling2D((2,2)))\n",
    "model.add(Flatten())"
   ],
   "outputs": [],
   "metadata": {}
  },
  {
   "cell_type": "code",
   "execution_count": 24,
   "source": [
    "model.add(Dense(kernel_initializer='uniform',activation='relu',units=300))"
   ],
   "outputs": [],
   "metadata": {}
  },
  {
   "cell_type": "code",
   "execution_count": 25,
   "source": [
    "model.add(Dense(kernel_initializer='uniform',activation='relu',units=100))"
   ],
   "outputs": [],
   "metadata": {}
  },
  {
   "cell_type": "code",
   "execution_count": 26,
   "source": [
    "model.add(Dense(kernel_initializer='uniform',activation='relu',units=60))"
   ],
   "outputs": [],
   "metadata": {}
  },
  {
   "cell_type": "code",
   "execution_count": 27,
   "source": [
    "model.add(Dense(units = 3, kernel_initializer=\"random_uniform\",activation=\"softmax\"))"
   ],
   "outputs": [],
   "metadata": {}
  },
  {
   "cell_type": "code",
   "execution_count": 28,
   "source": [
    "model.compile(loss='categorical_crossentropy',\n",
    "              optimizer='adam',metrics=[\"accuracy\"])"
   ],
   "outputs": [],
   "metadata": {}
  },
  {
   "cell_type": "code",
   "execution_count": 30,
   "source": [
    "model.fit_generator(x_train,steps_per_epoch=31,\n",
    "                    epochs=60,\n",
    "                    validation_data=x_test,\n",
    "                    validation_steps=10)"
   ],
   "outputs": [
    {
     "output_type": "stream",
     "name": "stdout",
     "text": [
      "Epoch 1/60\n",
      "31/31 [==============================] - 37s 1s/step - loss: 0.4240 - accuracy: 0.7964 - val_loss: 0.4665 - val_accuracy: 0.7531\n",
      "Epoch 2/60\n",
      "31/31 [==============================] - 36s 1s/step - loss: 0.4300 - accuracy: 0.8175 - val_loss: 0.5245 - val_accuracy: 0.7688\n",
      "Epoch 3/60\n",
      "31/31 [==============================] - 37s 1s/step - loss: 0.4366 - accuracy: 0.7934 - val_loss: 0.4946 - val_accuracy: 0.7406\n",
      "Epoch 4/60\n",
      "31/31 [==============================] - 39s 1s/step - loss: 0.3816 - accuracy: 0.8244 - val_loss: 0.5584 - val_accuracy: 0.7500\n",
      "Epoch 5/60\n",
      "31/31 [==============================] - 39s 1s/step - loss: 0.4196 - accuracy: 0.8089 - val_loss: 0.5421 - val_accuracy: 0.7656\n",
      "Epoch 6/60\n",
      "31/31 [==============================] - 38s 1s/step - loss: 0.4090 - accuracy: 0.7974 - val_loss: 0.4505 - val_accuracy: 0.7719\n",
      "Epoch 7/60\n",
      "31/31 [==============================] - 36s 1s/step - loss: 0.3843 - accuracy: 0.8347 - val_loss: 0.4196 - val_accuracy: 0.7812\n",
      "Epoch 8/60\n",
      "31/31 [==============================] - 37s 1s/step - loss: 0.3598 - accuracy: 0.8407 - val_loss: 0.4196 - val_accuracy: 0.7906\n",
      "Epoch 9/60\n",
      "31/31 [==============================] - 35s 1s/step - loss: 0.3830 - accuracy: 0.8306 - val_loss: 0.3904 - val_accuracy: 0.8344\n",
      "Epoch 10/60\n",
      "31/31 [==============================] - 38s 1s/step - loss: 0.3605 - accuracy: 0.8367 - val_loss: 0.4473 - val_accuracy: 0.7875\n",
      "Epoch 11/60\n",
      "31/31 [==============================] - 36s 1s/step - loss: 0.3926 - accuracy: 0.8079 - val_loss: 0.4435 - val_accuracy: 0.7906\n",
      "Epoch 12/60\n",
      "31/31 [==============================] - 34s 1s/step - loss: 0.3878 - accuracy: 0.8233 - val_loss: 0.4727 - val_accuracy: 0.7906\n",
      "Epoch 13/60\n",
      "31/31 [==============================] - 36s 1s/step - loss: 0.3852 - accuracy: 0.8196 - val_loss: 0.3973 - val_accuracy: 0.8188\n",
      "Epoch 14/60\n",
      "31/31 [==============================] - 37s 1s/step - loss: 0.3483 - accuracy: 0.8407 - val_loss: 0.4065 - val_accuracy: 0.8125\n",
      "Epoch 15/60\n",
      "31/31 [==============================] - 34s 1s/step - loss: 0.3590 - accuracy: 0.8397 - val_loss: 0.4872 - val_accuracy: 0.8031\n",
      "Epoch 16/60\n",
      "31/31 [==============================] - 33s 1s/step - loss: 0.3328 - accuracy: 0.8498 - val_loss: 0.4197 - val_accuracy: 0.8094\n",
      "Epoch 17/60\n",
      "31/31 [==============================] - 33s 1s/step - loss: 0.3726 - accuracy: 0.8367 - val_loss: 0.4240 - val_accuracy: 0.8125\n",
      "Epoch 18/60\n",
      "31/31 [==============================] - 35s 1s/step - loss: 0.3643 - accuracy: 0.8498 - val_loss: 0.5021 - val_accuracy: 0.7969\n",
      "Epoch 19/60\n",
      "31/31 [==============================] - 34s 1s/step - loss: 0.3427 - accuracy: 0.8478 - val_loss: 0.5013 - val_accuracy: 0.8344\n",
      "Epoch 20/60\n",
      "31/31 [==============================] - 35s 1s/step - loss: 0.2982 - accuracy: 0.8605 - val_loss: 0.6644 - val_accuracy: 0.7969\n",
      "Epoch 21/60\n",
      "31/31 [==============================] - 36s 1s/step - loss: 0.2940 - accuracy: 0.8609 - val_loss: 0.4145 - val_accuracy: 0.8469\n",
      "Epoch 22/60\n",
      "31/31 [==============================] - 37s 1s/step - loss: 0.3342 - accuracy: 0.8569 - val_loss: 0.4668 - val_accuracy: 0.8000\n",
      "Epoch 23/60\n",
      "31/31 [==============================] - 34s 1s/step - loss: 0.3156 - accuracy: 0.8679 - val_loss: 0.3844 - val_accuracy: 0.8313\n",
      "Epoch 24/60\n",
      "31/31 [==============================] - 30s 985ms/step - loss: 0.2971 - accuracy: 0.8690 - val_loss: 0.3807 - val_accuracy: 0.8188\n",
      "Epoch 25/60\n",
      "31/31 [==============================] - 32s 1s/step - loss: 0.2807 - accuracy: 0.8771 - val_loss: 0.4175 - val_accuracy: 0.7937\n",
      "Epoch 26/60\n",
      "31/31 [==============================] - 36s 1s/step - loss: 0.2681 - accuracy: 0.8864 - val_loss: 0.4859 - val_accuracy: 0.8062\n",
      "Epoch 27/60\n",
      "31/31 [==============================] - 33s 1s/step - loss: 0.2825 - accuracy: 0.8851 - val_loss: 0.3965 - val_accuracy: 0.8406\n",
      "Epoch 28/60\n",
      "31/31 [==============================] - 34s 1s/step - loss: 0.3159 - accuracy: 0.8569 - val_loss: 0.4968 - val_accuracy: 0.7906\n",
      "Epoch 29/60\n",
      "31/31 [==============================] - 34s 1s/step - loss: 0.2800 - accuracy: 0.8709 - val_loss: 0.3942 - val_accuracy: 0.8313\n",
      "Epoch 30/60\n",
      "31/31 [==============================] - 32s 1s/step - loss: 0.2939 - accuracy: 0.8760 - val_loss: 0.3731 - val_accuracy: 0.8406\n",
      "Epoch 31/60\n",
      "31/31 [==============================] - 35s 1s/step - loss: 0.2787 - accuracy: 0.8833 - val_loss: 0.4312 - val_accuracy: 0.8156\n",
      "Epoch 32/60\n",
      "31/31 [==============================] - 33s 1s/step - loss: 0.2658 - accuracy: 0.8891 - val_loss: 0.3690 - val_accuracy: 0.8750\n",
      "Epoch 33/60\n",
      "31/31 [==============================] - 32s 1s/step - loss: 0.2605 - accuracy: 0.8915 - val_loss: 0.5071 - val_accuracy: 0.8188\n",
      "Epoch 34/60\n",
      "31/31 [==============================] - 34s 1s/step - loss: 0.2791 - accuracy: 0.8781 - val_loss: 0.3694 - val_accuracy: 0.8250\n",
      "Epoch 35/60\n",
      "31/31 [==============================] - 29s 959ms/step - loss: 0.2692 - accuracy: 0.8802 - val_loss: 0.3977 - val_accuracy: 0.8375\n",
      "Epoch 36/60\n",
      "31/31 [==============================] - 31s 989ms/step - loss: 0.3041 - accuracy: 0.8667 - val_loss: 0.3601 - val_accuracy: 0.8406\n",
      "Epoch 37/60\n",
      "31/31 [==============================] - 32s 1s/step - loss: 0.2529 - accuracy: 0.8942 - val_loss: 0.4546 - val_accuracy: 0.8313\n",
      "Epoch 38/60\n",
      "31/31 [==============================] - 32s 1s/step - loss: 0.2331 - accuracy: 0.9062 - val_loss: 0.4588 - val_accuracy: 0.8656\n",
      "Epoch 39/60\n",
      "31/31 [==============================] - 31s 994ms/step - loss: 0.2480 - accuracy: 0.9081 - val_loss: 0.4391 - val_accuracy: 0.8500\n",
      "Epoch 40/60\n",
      "31/31 [==============================] - 33s 1s/step - loss: 0.2352 - accuracy: 0.9081 - val_loss: 0.3798 - val_accuracy: 0.8531\n",
      "Epoch 41/60\n",
      "31/31 [==============================] - 32s 1s/step - loss: 0.2274 - accuracy: 0.9060 - val_loss: 0.3811 - val_accuracy: 0.8625\n",
      "Epoch 42/60\n",
      "31/31 [==============================] - 34s 1s/step - loss: 0.2256 - accuracy: 0.9081 - val_loss: 0.3894 - val_accuracy: 0.8594\n",
      "Epoch 43/60\n",
      "31/31 [==============================] - 34s 1s/step - loss: 0.2135 - accuracy: 0.9093 - val_loss: 0.4832 - val_accuracy: 0.8313\n",
      "Epoch 44/60\n",
      "31/31 [==============================] - 33s 1s/step - loss: 0.2252 - accuracy: 0.8972 - val_loss: 0.4200 - val_accuracy: 0.8438\n",
      "Epoch 45/60\n",
      "31/31 [==============================] - 32s 1s/step - loss: 0.2112 - accuracy: 0.9143 - val_loss: 0.3312 - val_accuracy: 0.8687\n",
      "Epoch 46/60\n",
      "31/31 [==============================] - 32s 1s/step - loss: 0.2236 - accuracy: 0.9132 - val_loss: 0.5515 - val_accuracy: 0.8094\n",
      "Epoch 47/60\n",
      "31/31 [==============================] - 32s 1s/step - loss: 0.2008 - accuracy: 0.9204 - val_loss: 0.4699 - val_accuracy: 0.8375\n",
      "Epoch 48/60\n",
      "31/31 [==============================] - 35s 1s/step - loss: 0.2655 - accuracy: 0.8998 - val_loss: 0.4196 - val_accuracy: 0.8625\n",
      "Epoch 49/60\n",
      "31/31 [==============================] - 32s 1s/step - loss: 0.2653 - accuracy: 0.9122 - val_loss: 0.3785 - val_accuracy: 0.8406\n",
      "Epoch 50/60\n",
      "31/31 [==============================] - 34s 1s/step - loss: 0.2700 - accuracy: 0.8833 - val_loss: 0.5391 - val_accuracy: 0.7812\n",
      "Epoch 51/60\n",
      "31/31 [==============================] - 36s 1s/step - loss: 0.1915 - accuracy: 0.9318 - val_loss: 0.5180 - val_accuracy: 0.8281\n",
      "Epoch 52/60\n",
      "31/31 [==============================] - 32s 1s/step - loss: 0.1980 - accuracy: 0.9183 - val_loss: 0.4629 - val_accuracy: 0.8562\n",
      "Epoch 53/60\n",
      "31/31 [==============================] - 34s 1s/step - loss: 0.1975 - accuracy: 0.9225 - val_loss: 0.4594 - val_accuracy: 0.8687\n",
      "Epoch 54/60\n",
      "31/31 [==============================] - 33s 1s/step - loss: 0.1825 - accuracy: 0.9277 - val_loss: 0.4826 - val_accuracy: 0.8406\n",
      "Epoch 55/60\n",
      "31/31 [==============================] - 33s 1s/step - loss: 0.1945 - accuracy: 0.9264 - val_loss: 0.4605 - val_accuracy: 0.8500\n",
      "Epoch 56/60\n",
      "31/31 [==============================] - 33s 1s/step - loss: 0.2031 - accuracy: 0.9225 - val_loss: 0.4354 - val_accuracy: 0.8531\n",
      "Epoch 57/60\n",
      "31/31 [==============================] - 34s 1s/step - loss: 0.2367 - accuracy: 0.9133 - val_loss: 0.3186 - val_accuracy: 0.8938\n",
      "Epoch 58/60\n",
      "31/31 [==============================] - 33s 1s/step - loss: 0.2057 - accuracy: 0.9174 - val_loss: 0.3938 - val_accuracy: 0.8656\n",
      "Epoch 59/60\n",
      "31/31 [==============================] - 31s 1s/step - loss: 0.1801 - accuracy: 0.9194 - val_loss: 0.4003 - val_accuracy: 0.8469\n",
      "Epoch 60/60\n",
      "31/31 [==============================] - 31s 997ms/step - loss: 0.1978 - accuracy: 0.9236 - val_loss: 0.3156 - val_accuracy: 0.8750\n"
     ]
    },
    {
     "output_type": "execute_result",
     "data": {
      "text/plain": [
       "<tensorflow.python.keras.callbacks.History at 0x7fdea8ef8fd0>"
      ]
     },
     "metadata": {},
     "execution_count": 30
    }
   ],
   "metadata": {}
  },
  {
   "cell_type": "code",
   "execution_count": 31,
   "source": [
    "model.save('animal_custom.h5')"
   ],
   "outputs": [],
   "metadata": {}
  }
 ],
 "metadata": {
  "orig_nbformat": 4,
  "language_info": {
   "name": "python",
   "version": "3.8.3",
   "mimetype": "text/x-python",
   "codemirror_mode": {
    "name": "ipython",
    "version": 3
   },
   "pygments_lexer": "ipython3",
   "nbconvert_exporter": "python",
   "file_extension": ".py"
  },
  "kernelspec": {
   "name": "python3",
   "display_name": "Python 3.8.3 64-bit ('anaconda3': conda)"
  },
  "interpreter": {
   "hash": "dca0ade3e726a953b501b15e8e990130d2b7799f14cfd9f4271676035ebe5511"
  }
 },
 "nbformat": 4,
 "nbformat_minor": 2
}